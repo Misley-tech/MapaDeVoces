{
  "cells": [
    {
      "cell_type": "markdown",
      "metadata": {},
      "source": [
        "\n",
        "# UMAP on the MNIST Digits dataset\n",
        "\n",
        "A simple example demonstrating how to use UMAP on a larger\n",
        "dataset such as MNIST. We first pull the MNIST dataset and\n",
        "then use UMAP to reduce it to only 2-dimensions for\n",
        "easy visualisation.\n",
        "\n",
        "Note that UMAP manages to both group the individual digit\n",
        "classes, but also to retain the overall global structure\n",
        "among the different digit classes -- keeping 1 far from\n",
        "0, and grouping triplets of 3,5,8 and 4,7,9 which can\n",
        "blend into one another in some cases.\n"
      ]
    },
    {
      "cell_type": "code",
      "execution_count": null,
      "metadata": {
        "collapsed": false
      },
      "outputs": [],
      "source": [
        "import umap\n",
        "from sklearn.datasets import fetch_openml\n",
        "import matplotlib.pyplot as plt\n",
        "import seaborn as sns\n",
        "\n",
        "sns.set(context=\"paper\", style=\"white\")\n",
        "\n",
        "mnist = fetch_openml(\"mnist_784\", version=1)\n",
        "\n",
        "reducer = umap.UMAP(random_state=42)\n",
        "embedding = reducer.fit_transform(mnist.data)\n",
        "\n",
        "fig, ax = plt.subplots(figsize=(12, 10))\n",
        "color = mnist.target.astype(int)\n",
        "print(color)\n",
        "plt.scatter(embedding[:, 0], embedding[:, 1], c=color, cmap=\"Spectral\", s=0.1)\n",
        "plt.setp(ax, xticks=[], yticks=[])\n",
        "plt.title(\"MNIST data embedded into two dimensions by UMAP\", fontsize=18)\n",
        "\n",
        "plt.show()"
      ]
    }
  ],
  "metadata": {
    "kernelspec": {
      "display_name": "Python 3",
      "language": "python",
      "name": "python3"
    },
    "language_info": {
      "codemirror_mode": {
        "name": "ipython",
        "version": 3
      },
      "file_extension": ".py",
      "mimetype": "text/x-python",
      "name": "python",
      "nbconvert_exporter": "python",
      "pygments_lexer": "ipython3",
      "version": "3.10.11"
    }
  },
  "nbformat": 4,
  "nbformat_minor": 0
}
