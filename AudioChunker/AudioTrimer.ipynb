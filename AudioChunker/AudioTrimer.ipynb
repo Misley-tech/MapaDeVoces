{
 "cells": [
  {
   "cell_type": "code",
   "execution_count": 3,
   "metadata": {},
   "outputs": [
    {
     "name": "stdout",
     "output_type": "stream",
     "text": [
      "<pydub.audio_segment.AudioSegment object at 0x0000021F8C5EF9A0>\n"
     ]
    }
   ],
   "source": [
    "from pydub import AudioSegment\n",
    "\n",
    "# Load the MP3 file\n",
    "song = AudioSegment.from_mp3(\"C:/Users/Asus/OneDrive/Escritorio/MapaDeVoces/AudioChunker/Crudos/E25_crudo.wav\")\n",
    "\n",
    "# Define the time range to keep (e.g., first 10 seconds)\n",
    "end = 5.48 * 1000\n",
    "start = 8.75 * 1000\n",
    "first_10_seconds = song[:end]\n",
    "hola = first_10_seconds[start:]\n",
    "\n",
    "# Save the trimmed audio as a new file\n",
    "hola.export(\"trimmed_output4.wav\", format=\"wav\")\n"
   ]
  }
 ],
 "metadata": {
  "kernelspec": {
   "display_name": "Python 3",
   "language": "python",
   "name": "python3"
  },
  "language_info": {
   "codemirror_mode": {
    "name": "ipython",
    "version": 3
   },
   "file_extension": ".py",
   "mimetype": "text/x-python",
   "name": "python",
   "nbconvert_exporter": "python",
   "pygments_lexer": "ipython3",
   "version": "3.10.11"
  }
 },
 "nbformat": 4,
 "nbformat_minor": 2
}
