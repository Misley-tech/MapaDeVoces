{
 "cells": [
  {
   "cell_type": "code",
   "execution_count": 8,
   "metadata": {},
   "outputs": [
    {
     "name": "stdout",
     "output_type": "stream",
     "text": [
      "audio-chunks\\chunk1.wav : Sabía que el cuerpo humano posee sensores sí como los robots se encargan de capturar la energía que nos rodea la transforman y la transforman como sensaciones que llegan al cerebro. \n",
      "\n",
      "Full text: Sabía que el cuerpo humano posee sensores sí como los robots se encargan de capturar la energía que nos rodea la transforman y la transforman como sensaciones que llegan al cerebro. \n"
     ]
    }
   ],
   "source": [
    "import speech_recognition as sr\n",
    "import os \n",
    "from pydub import AudioSegment\n",
    "from pydub.silence import split_on_silence  \n",
    "\n",
    "r = sr.Recognizer()\n",
    "\n",
    "def get_large_audio_transcription(path):\n",
    "    \"\"\"\n",
    "    Separaremos el audio largo en trozos para\n",
    "    aplicar reconocimiento de voz a cada trozo \n",
    "    \"\"\"\n",
    "    # abrimos el audio con pydub\n",
    "    sound = AudioSegment.from_wav(path)  \n",
    "    # separamos el audio donde el silencio dure 700 miliseconds o más por los trozos\n",
    "    chunks = split_on_silence(sound,\n",
    "        # estas cantidades pueden variar según tu audio\n",
    "        min_silence_len = 500,\n",
    "        # ajustese según se necesite\n",
    "        silence_thresh = sound.dBFS-14,\n",
    "        # mantiene el silencio por 1 segundo, tambien ajustable\n",
    "        keep_silence=500,\n",
    "    )\n",
    "    folder_name = \"audio-chunks\" # nombre para la carpeta de los trozos de audio\n",
    "    # crea un directorio para guardar los trozos del audio \n",
    "    if not os.path.isdir(folder_name):\n",
    "        os.mkdir(folder_name)\n",
    "    whole_text = \"\"\n",
    "    # procesamos cada trozo\n",
    "    for i, audio_chunk in enumerate(chunks, start=1):\n",
    "        # exportamos el trozo del audio y lo guardamos enumerado\n",
    "        # en la carpeta de nombre `audio-chunks`.\n",
    "        chunk_filename = os.path.join(folder_name, f\"chunk{i}.wav\")\n",
    "        audio_chunk.export(chunk_filename, format=\"wav\")\n",
    "        # reconocemos el trozo de audio\n",
    "        with sr.AudioFile(chunk_filename) as source:\n",
    "            audio_listened = r.record(source)\n",
    "            # lo intentamos convertir en texto, en este caso establecemos\n",
    "            # usar el reconocimiento de google en español y entrega en la consola el nombre del trozo y su texto en el formato \"chunk1: Hola mundo\"\n",
    "            try:\n",
    "                text = r.recognize_google(audio_listened, language=\"es-ES\")\n",
    "            except sr.UnknownValueError as e:\n",
    "                print(\"Error:\", str(e))\n",
    "            else:\n",
    "                text = f\"{text.capitalize()}. \"\n",
    "                print(chunk_filename, \":\", text)\n",
    "                whole_text += text\n",
    "    # entrega el texto completo de  todos los trozos de audio que se transcribieron\n",
    "    return whole_text\n",
    "\n",
    "#seleccionamos el path de nuestro archivo wav\n",
    "path = \"LosSentidos0_AV0.wav\"\n",
    "print(\"\\nFull text:\", get_large_audio_transcription(path))  "
   ]
  }
 ],
 "metadata": {
  "kernelspec": {
   "display_name": "Python 3",
   "language": "python",
   "name": "python3"
  },
  "language_info": {
   "codemirror_mode": {
    "name": "ipython",
    "version": 3
   },
   "file_extension": ".py",
   "mimetype": "text/x-python",
   "name": "python",
   "nbconvert_exporter": "python",
   "pygments_lexer": "ipython3",
   "version": "3.10.11"
  }
 },
 "nbformat": 4,
 "nbformat_minor": 2
}
